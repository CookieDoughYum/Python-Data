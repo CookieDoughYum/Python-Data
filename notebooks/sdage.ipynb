{
 "cells": [
  {
   "cell_type": "markdown",
   "id": "38e57d42",
   "metadata": {},
   "source": [
    "# Census Data Analysis: Mean Age by Census Tract\n",
    "\n",
    "This notebook analyzes and visualizes mean age data across census tracts using the Census Bureau's API through the `cenpy` library. We'll fetch demographic data, calculate mean age, and create visualizations to understand age distribution patterns across different census tracts."
   ]
  },
  {
   "cell_type": "code",
   "execution_count": null,
   "id": "c51f273e",
   "metadata": {},
   "outputs": [
    {
     "ename": "OSError",
     "evalue": "'seaborn' is not a valid package style, path of style file, URL of style file, or library style name (library styles are listed in `style.available`)",
     "output_type": "error",
     "traceback": [
      "\u001b[31m---------------------------------------------------------------------------\u001b[39m",
      "\u001b[31mFileNotFoundError\u001b[39m                         Traceback (most recent call last)",
      "\u001b[36mFile \u001b[39m\u001b[32m/usr/local/pip-global/matplotlib/style/core.py:129\u001b[39m, in \u001b[36muse\u001b[39m\u001b[34m(style)\u001b[39m\n\u001b[32m    128\u001b[39m \u001b[38;5;28;01mtry\u001b[39;00m:\n\u001b[32m--> \u001b[39m\u001b[32m129\u001b[39m     style = \u001b[43m_rc_params_in_file\u001b[49m\u001b[43m(\u001b[49m\u001b[43mstyle\u001b[49m\u001b[43m)\u001b[49m\n\u001b[32m    130\u001b[39m \u001b[38;5;28;01mexcept\u001b[39;00m \u001b[38;5;167;01mOSError\u001b[39;00m \u001b[38;5;28;01mas\u001b[39;00m err:\n",
      "\u001b[36mFile \u001b[39m\u001b[32m/usr/local/pip-global/matplotlib/__init__.py:903\u001b[39m, in \u001b[36m_rc_params_in_file\u001b[39m\u001b[34m(fname, transform, fail_on_error)\u001b[39m\n\u001b[32m    902\u001b[39m rc_temp = {}\n\u001b[32m--> \u001b[39m\u001b[32m903\u001b[39m \u001b[43m\u001b[49m\u001b[38;5;28;43;01mwith\u001b[39;49;00m\u001b[43m \u001b[49m\u001b[43m_open_file_or_url\u001b[49m\u001b[43m(\u001b[49m\u001b[43mfname\u001b[49m\u001b[43m)\u001b[49m\u001b[43m \u001b[49m\u001b[38;5;28;43;01mas\u001b[39;49;00m\u001b[43m \u001b[49m\u001b[43mfd\u001b[49m\u001b[43m:\u001b[49m\n\u001b[32m    904\u001b[39m \u001b[43m    \u001b[49m\u001b[38;5;28;43;01mtry\u001b[39;49;00m\u001b[43m:\u001b[49m\n",
      "\u001b[36mFile \u001b[39m\u001b[32m/usr/local/lib/python3.12/contextlib.py:137\u001b[39m, in \u001b[36m_GeneratorContextManager.__enter__\u001b[39m\u001b[34m(self)\u001b[39m\n\u001b[32m    136\u001b[39m \u001b[38;5;28;01mtry\u001b[39;00m:\n\u001b[32m--> \u001b[39m\u001b[32m137\u001b[39m     \u001b[38;5;28;01mreturn\u001b[39;00m \u001b[38;5;28;43mnext\u001b[39;49m\u001b[43m(\u001b[49m\u001b[38;5;28;43mself\u001b[39;49m\u001b[43m.\u001b[49m\u001b[43mgen\u001b[49m\u001b[43m)\u001b[49m\n\u001b[32m    138\u001b[39m \u001b[38;5;28;01mexcept\u001b[39;00m \u001b[38;5;167;01mStopIteration\u001b[39;00m:\n",
      "\u001b[36mFile \u001b[39m\u001b[32m/usr/local/pip-global/matplotlib/__init__.py:880\u001b[39m, in \u001b[36m_open_file_or_url\u001b[39m\u001b[34m(fname)\u001b[39m\n\u001b[32m    879\u001b[39m fname = os.path.expanduser(fname)\n\u001b[32m--> \u001b[39m\u001b[32m880\u001b[39m \u001b[38;5;28;01mwith\u001b[39;00m \u001b[38;5;28;43mopen\u001b[39;49m\u001b[43m(\u001b[49m\u001b[43mfname\u001b[49m\u001b[43m,\u001b[49m\u001b[43m \u001b[49m\u001b[43mencoding\u001b[49m\u001b[43m=\u001b[49m\u001b[33;43m'\u001b[39;49m\u001b[33;43mutf-8\u001b[39;49m\u001b[33;43m'\u001b[39;49m\u001b[43m)\u001b[49m \u001b[38;5;28;01mas\u001b[39;00m f:\n\u001b[32m    881\u001b[39m     \u001b[38;5;28;01myield\u001b[39;00m f\n",
      "\u001b[31mFileNotFoundError\u001b[39m: [Errno 2] No such file or directory: 'seaborn'",
      "\nThe above exception was the direct cause of the following exception:\n",
      "\u001b[31mOSError\u001b[39m                                   Traceback (most recent call last)",
      "\u001b[36mCell\u001b[39m\u001b[36m \u001b[39m\u001b[32mIn[2]\u001b[39m\u001b[32m, line 9\u001b[39m\n\u001b[32m      6\u001b[39m \u001b[38;5;28;01mimport\u001b[39;00m\u001b[38;5;250m \u001b[39m\u001b[34;01mseaborn\u001b[39;00m\u001b[38;5;250m \u001b[39m\u001b[38;5;28;01mas\u001b[39;00m\u001b[38;5;250m \u001b[39m\u001b[34;01msns\u001b[39;00m\n\u001b[32m      8\u001b[39m \u001b[38;5;66;03m# Set plotting style\u001b[39;00m\n\u001b[32m----> \u001b[39m\u001b[32m9\u001b[39m \u001b[43mplt\u001b[49m\u001b[43m.\u001b[49m\u001b[43mstyle\u001b[49m\u001b[43m.\u001b[49m\u001b[43muse\u001b[49m\u001b[43m(\u001b[49m\u001b[33;43m'\u001b[39;49m\u001b[33;43mseaborn\u001b[39;49m\u001b[33;43m'\u001b[39;49m\u001b[43m)\u001b[49m\n\u001b[32m     10\u001b[39m sns.set_palette(\u001b[33m\"\u001b[39m\u001b[33mhusl\u001b[39m\u001b[33m\"\u001b[39m)\n",
      "\u001b[36mFile \u001b[39m\u001b[32m/usr/local/pip-global/matplotlib/style/core.py:131\u001b[39m, in \u001b[36muse\u001b[39m\u001b[34m(style)\u001b[39m\n\u001b[32m    129\u001b[39m         style = _rc_params_in_file(style)\n\u001b[32m    130\u001b[39m     \u001b[38;5;28;01mexcept\u001b[39;00m \u001b[38;5;167;01mOSError\u001b[39;00m \u001b[38;5;28;01mas\u001b[39;00m err:\n\u001b[32m--> \u001b[39m\u001b[32m131\u001b[39m         \u001b[38;5;28;01mraise\u001b[39;00m \u001b[38;5;167;01mOSError\u001b[39;00m(\n\u001b[32m    132\u001b[39m             \u001b[33mf\u001b[39m\u001b[33m\"\u001b[39m\u001b[38;5;132;01m{\u001b[39;00mstyle\u001b[38;5;132;01m!r}\u001b[39;00m\u001b[33m is not a valid package style, path of style \u001b[39m\u001b[33m\"\u001b[39m\n\u001b[32m    133\u001b[39m             \u001b[33mf\u001b[39m\u001b[33m\"\u001b[39m\u001b[33mfile, URL of style file, or library style name (library \u001b[39m\u001b[33m\"\u001b[39m\n\u001b[32m    134\u001b[39m             \u001b[33mf\u001b[39m\u001b[33m\"\u001b[39m\u001b[33mstyles are listed in `style.available`)\u001b[39m\u001b[33m\"\u001b[39m) \u001b[38;5;28;01mfrom\u001b[39;00m\u001b[38;5;250m \u001b[39m\u001b[34;01merr\u001b[39;00m\n\u001b[32m    135\u001b[39m filtered = {}\n\u001b[32m    136\u001b[39m \u001b[38;5;28;01mfor\u001b[39;00m k \u001b[38;5;129;01min\u001b[39;00m style:  \u001b[38;5;66;03m# don't trigger RcParams.__getitem__('backend')\u001b[39;00m\n",
      "\u001b[31mOSError\u001b[39m: 'seaborn' is not a valid package style, path of style file, URL of style file, or library style name (library styles are listed in `style.available`)"
     ]
    }
   ],
   "source": [
    "# Import required libraries\n",
    "import cenpy\n",
    "import pandas as pd\n",
    "import geopandas as gpd\n",
    "import matplotlib.pyplot as plt\n",
    "import seaborn as sns\n",
    "\n",
    "# Set plotting style\n",
    "plt.style.use('default')  # Using default style instead of seaborn\n",
    "sns.set_theme()  # This will apply seaborn's default theme"
   ]
  },
  {
   "cell_type": "code",
   "execution_count": null,
   "id": "67e05826",
   "metadata": {},
   "outputs": [],
   "source": [
    "# Connect to Census API\n",
    "conn = cenpy.remote.APIConnection('ACSDT5Y2021')  # Using 5-year ACS 2021 data\n",
    "\n",
    "# Define variables we want to retrieve\n",
    "variables = [\n",
    "    'B01002_001E',  # Median age\n",
    "    'B01001_001E',  # Total population\n",
    "]\n",
    "\n",
    "# Get variable descriptions\n",
    "var_desc = conn.variables.loc[variables]\n",
    "print(\"Variables we're retrieving:\")\n",
    "print(var_desc)"
   ]
  },
  {
   "cell_type": "code",
   "execution_count": null,
   "id": "9d926e9b",
   "metadata": {},
   "outputs": [],
   "source": [
    "# Let's get data for California as an example\n",
    "# You can change the state FIPS code for different states\n",
    "ca_tracts = conn.query(\n",
    "    cols=variables,\n",
    "    geo_unit='tract',\n",
    "    geo_filter={'state': '06'}  # FIPS code for California\n",
    ")\n",
    "\n",
    "# Convert to numeric and handle missing values\n",
    "for var in variables:\n",
    "    ca_tracts[var] = pd.to_numeric(ca_tracts[var], errors='coerce')\n",
    "\n",
    "# Add readable column names\n",
    "ca_tracts = ca_tracts.rename(columns={\n",
    "    'B01002_001E': 'median_age',\n",
    "    'B01001_001E': 'total_population'\n",
    "})\n",
    "\n",
    "print(\"First few rows of our data:\")\n",
    "print(ca_tracts.head())\n",
    "\n",
    "print(\"\\nSummary statistics:\")\n",
    "print(ca_tracts.describe())"
   ]
  },
  {
   "cell_type": "code",
   "execution_count": null,
   "id": "a191703a",
   "metadata": {},
   "outputs": [],
   "source": [
    "# Create visualizations\n",
    "\n",
    "# 1. Distribution of median age\n",
    "plt.figure(figsize=(12, 6))\n",
    "sns.histplot(data=ca_tracts, x='median_age', bins=50)\n",
    "plt.title('Distribution of Median Age Across Census Tracts')\n",
    "plt.xlabel('Median Age (years)')\n",
    "plt.ylabel('Count of Census Tracts')\n",
    "plt.show()\n",
    "\n",
    "# 2. Scatter plot of median age vs population\n",
    "plt.figure(figsize=(12, 6))\n",
    "sns.scatterplot(data=ca_tracts, x='total_population', y='median_age', alpha=0.5)\n",
    "plt.title('Median Age vs Total Population by Census Tract')\n",
    "plt.xlabel('Total Population')\n",
    "plt.ylabel('Median Age (years)')\n",
    "plt.show()\n",
    "\n",
    "# Calculate some summary statistics\n",
    "print(\"\\nKey Statistics:\")\n",
    "print(f\"Average median age across all tracts: {ca_tracts['median_age'].mean():.1f} years\")\n",
    "print(f\"Youngest tract median age: {ca_tracts['median_age'].min():.1f} years\")\n",
    "print(f\"Oldest tract median age: {ca_tracts['median_age'].max():.1f} years\")"
   ]
  }
 ],
 "metadata": {
  "kernelspec": {
   "display_name": "Python 3",
   "language": "python",
   "name": "python3"
  },
  "language_info": {
   "codemirror_mode": {
    "name": "ipython",
    "version": 3
   },
   "file_extension": ".py",
   "mimetype": "text/x-python",
   "name": "python",
   "nbconvert_exporter": "python",
   "pygments_lexer": "ipython3",
   "version": "3.12.10"
  }
 },
 "nbformat": 4,
 "nbformat_minor": 5
}
